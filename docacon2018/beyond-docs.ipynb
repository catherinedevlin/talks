{
 "cells": [
  {
   "cell_type": "markdown",
   "metadata": {
    "slideshow": {
     "slide_type": "slide"
    }
   },
   "source": [
    "# Docassemble Beyond Docs\n",
    "\n",
    "Catherine Devlin\n",
    "\n",
    "Docacon 2018\n",
    "\n",
    "https://github.com/catherinedevlin/talks/docassemble"
   ]
  },
  {
   "cell_type": "markdown",
   "metadata": {
    "slideshow": {
     "slide_type": "slide"
    }
   },
   "source": [
    "# Me\n",
    "\n",
    "- [18F](https://18f.gsa.gov/) alum \n",
    "- [Code for Dayton](https://codefordayton.org/)\n",
    "- Now at [Miro](https://miro.one)\n",
    "- [PyOhio](https://www.pyohio.org/2018/), [PyCon](https://www.youtube.com/watch?v=3kta4GB3PAw) "
   ]
  },
  {
   "cell_type": "markdown",
   "metadata": {
    "slideshow": {
     "slide_type": "slide"
    }
   },
   "source": [
    "![Magnetron](img/magnetron.resized.jpg)"
   ]
  },
  {
   "cell_type": "markdown",
   "metadata": {
    "slideshow": {
     "slide_type": "slide"
    }
   },
   "source": [
    "![Radar](img/radar.resized.jpg)"
   ]
  },
  {
   "cell_type": "markdown",
   "metadata": {
    "slideshow": {
     "slide_type": "slide"
    }
   },
   "source": [
    "![Microwave oven](img/microwave.resized.jpg)"
   ]
  },
  {
   "cell_type": "markdown",
   "metadata": {
    "slideshow": {
     "slide_type": "slide"
    }
   },
   "source": [
    "![Docassemble](img/docassemble.png)\n",
    "\n",
    "![Full stack web development](img/fullstack.jpeg)"
   ]
  },
  {
   "cell_type": "markdown",
   "metadata": {
    "slideshow": {
     "slide_type": "slide"
    }
   },
   "source": [
    "![API-centered development](img/API-centered.svg)"
   ]
  },
  {
   "cell_type": "markdown",
   "metadata": {
    "slideshow": {
     "slide_type": "slide"
    }
   },
   "source": [
    "# What's a RESTful API?\n",
    "\n",
    "[Public APIs](https://github.com/toddmotto/public-apis)"
   ]
  },
  {
   "cell_type": "markdown",
   "metadata": {
    "slideshow": {
     "slide_type": "slide"
    }
   },
   "source": [
    "# JSON in, JSON out"
   ]
  },
  {
   "cell_type": "code",
   "execution_count": null,
   "metadata": {
    "slideshow": {
     "slide_type": "slide"
    }
   },
   "outputs": [],
   "source": [
    "!curl https://ghibliapi.herokuapp.com/films"
   ]
  },
  {
   "cell_type": "markdown",
   "metadata": {
    "slideshow": {
     "slide_type": "slide"
    }
   },
   "source": [
    "[g1-data-table.yml](g1-data-table.yml)\n",
    "\n",
    "[g2-use-json.yml](g2-use-json.yml)"
   ]
  },
  {
   "cell_type": "code",
   "execution_count": null,
   "metadata": {
    "slideshow": {
     "slide_type": "subslide"
    }
   },
   "outputs": [],
   "source": [
    "import requests \n",
    "response = requests.get('https://ghibliapi.herokuapp.com/films')\n",
    "response.ok"
   ]
  },
  {
   "cell_type": "code",
   "execution_count": null,
   "metadata": {
    "slideshow": {
     "slide_type": "fragment"
    }
   },
   "outputs": [],
   "source": [
    "dir(response)"
   ]
  },
  {
   "cell_type": "code",
   "execution_count": null,
   "metadata": {
    "slideshow": {
     "slide_type": "slide"
    }
   },
   "outputs": [],
   "source": [
    "response.json()"
   ]
  },
  {
   "cell_type": "markdown",
   "metadata": {
    "slideshow": {
     "slide_type": "slide"
    }
   },
   "source": [
    "[g3-json-get.yml](g3-json-get.yml)"
   ]
  },
  {
   "cell_type": "markdown",
   "metadata": {
    "slideshow": {
     "slide_type": "slide"
    }
   },
   "source": [
    "    \n",
    "# Let's run an API server!\n",
    "\n",
    "[JSON-server](https://github.com/typicode/json-server)"
   ]
  },
  {
   "cell_type": "code",
   "execution_count": null,
   "metadata": {
    "slideshow": {
     "slide_type": "slide"
    }
   },
   "outputs": [],
   "source": [
    "!cat films.json"
   ]
  },
  {
   "cell_type": "markdown",
   "metadata": {
    "slideshow": {
     "slide_type": "fragment"
    }
   },
   "source": [
    "`json-server --watch films.json -H 0.0.0.0 `"
   ]
  },
  {
   "cell_type": "code",
   "execution_count": null,
   "metadata": {
    "slideshow": {
     "slide_type": "slide"
    }
   },
   "outputs": [],
   "source": [
    "!curl http://localhost:3000/films/"
   ]
  },
  {
   "cell_type": "code",
   "execution_count": null,
   "metadata": {
    "slideshow": {
     "slide_type": "slide"
    }
   },
   "outputs": [],
   "source": [
    "!curl http://localhost:3000/films/2"
   ]
  },
  {
   "cell_type": "code",
   "execution_count": null,
   "metadata": {
    "slideshow": {
     "slide_type": "slide"
    }
   },
   "outputs": [],
   "source": [
    "!cat run.sh"
   ]
  },
  {
   "cell_type": "markdown",
   "metadata": {
    "slideshow": {
     "slide_type": "fragment"
    }
   },
   "source": [
    "[g4-local-get.yml](g4-local-get.yml)"
   ]
  },
  {
   "cell_type": "markdown",
   "metadata": {
    "slideshow": {
     "slide_type": "slide"
    }
   },
   "source": [
    "# POST!\n",
    "\n",
    "[g5-local-post.yml](g5-local-post.yml)"
   ]
  },
  {
   "cell_type": "markdown",
   "metadata": {
    "slideshow": {
     "slide_type": "slide"
    }
   },
   "source": [
    "# Let's run a real API server\n",
    "\n",
    "[Django REST Framework](http://www.django-rest-framework.org/)"
   ]
  },
  {
   "cell_type": "markdown",
   "metadata": {
    "slideshow": {
     "slide_type": "slide"
    }
   },
   "source": [
    "# [Postgrest](http://postgrest.org/en/v5.0/tutorials/tut0.html)"
   ]
  },
  {
   "cell_type": "code",
   "execution_count": null,
   "metadata": {
    "slideshow": {
     "slide_type": "slide"
    }
   },
   "outputs": [],
   "source": [
    "!./postgrest --help \n"
   ]
  },
  {
   "cell_type": "markdown",
   "metadata": {
    "slideshow": {
     "slide_type": "slide"
    }
   },
   "source": [
    "[pg_schema.sql](pg_schema.sql)"
   ]
  },
  {
   "cell_type": "code",
   "execution_count": null,
   "metadata": {
    "slideshow": {
     "slide_type": "slide"
    }
   },
   "outputs": [],
   "source": [
    "!createdb films "
   ]
  },
  {
   "cell_type": "code",
   "execution_count": null,
   "metadata": {
    "slideshow": {
     "slide_type": "fragment"
    }
   },
   "outputs": [],
   "source": [
    "!psql -f pg_schema.sql films"
   ]
  },
  {
   "cell_type": "code",
   "execution_count": null,
   "metadata": {
    "slideshow": {
     "slide_type": "slide"
    }
   },
   "outputs": [],
   "source": [
    "!cat films_api.conf"
   ]
  },
  {
   "cell_type": "code",
   "execution_count": null,
   "metadata": {
    "slideshow": {
     "slide_type": "fragment"
    }
   },
   "outputs": [],
   "source": [
    "!./postgrest films_api.conf\n",
    " "
   ]
  },
  {
   "cell_type": "code",
   "execution_count": null,
   "metadata": {
    "slideshow": {
     "slide_type": "slide"
    }
   },
   "outputs": [],
   "source": [
    "!curl http://localhost:3000/films"
   ]
  },
  {
   "cell_type": "code",
   "execution_count": null,
   "metadata": {
    "slideshow": {
     "slide_type": "fragment"
    }
   },
   "outputs": [],
   "source": [
    "!curl http://localhost:3000/films?id=eq.2"
   ]
  },
  {
   "cell_type": "code",
   "execution_count": null,
   "metadata": {
    "slideshow": {
     "slide_type": "fragment"
    }
   },
   "outputs": [],
   "source": [
    "!curl http://localhost:3000/films?title=eq.Totoro"
   ]
  },
  {
   "cell_type": "markdown",
   "metadata": {
    "slideshow": {
     "slide_type": "fragment"
    }
   },
   "source": [
    "[So much more](http://postgrest.org/en/v5.0/api.html)"
   ]
  },
  {
   "cell_type": "markdown",
   "metadata": {
    "slideshow": {
     "slide_type": "slide"
    }
   },
   "source": [
    "# POSTing in Postgrest"
   ]
  },
  {
   "cell_type": "code",
   "execution_count": null,
   "metadata": {
    "slideshow": {
     "slide_type": "slide"
    }
   },
   "outputs": [],
   "source": [
    "import requests \n",
    "url = 'http://localhost:3000/films'\n",
    "data = {'title': 'Princess Bride', 'description': 'As you wish'}\n",
    "resp = requests.post(url, json=data)\n",
    "resp "
   ]
  },
  {
   "cell_type": "code",
   "execution_count": null,
   "metadata": {
    "slideshow": {
     "slide_type": "slide"
    }
   },
   "outputs": [],
   "source": [
    "resp.ok"
   ]
  },
  {
   "cell_type": "code",
   "execution_count": null,
   "metadata": {
    "slideshow": {
     "slide_type": "fragment"
    }
   },
   "outputs": [],
   "source": [
    "resp.json()"
   ]
  },
  {
   "cell_type": "code",
   "execution_count": null,
   "metadata": {
    "slideshow": {
     "slide_type": "slide"
    }
   },
   "outputs": [],
   "source": [
    "!psql -c \"grant insert on api.films to web_anon\" films\n",
    "!psql -c \"GRANT USAGE, SELECT ON ALL SEQUENCES IN SCHEMA api TO web_anon\" films"
   ]
  },
  {
   "cell_type": "code",
   "execution_count": null,
   "metadata": {
    "slideshow": {
     "slide_type": "slide"
    }
   },
   "outputs": [],
   "source": [
    "resp = requests.post(url, json=data)\n",
    "resp"
   ]
  },
  {
   "cell_type": "code",
   "execution_count": null,
   "metadata": {
    "slideshow": {
     "slide_type": "fragment"
    }
   },
   "outputs": [],
   "source": [
    "resp.ok"
   ]
  },
  {
   "cell_type": "code",
   "execution_count": null,
   "metadata": {
    "slideshow": {
     "slide_type": "slide"
    }
   },
   "outputs": [],
   "source": [
    "!psql -c \"SELECT * FROM api.films\" films"
   ]
  },
  {
   "cell_type": "markdown",
   "metadata": {
    "slideshow": {
     "slide_type": "slide"
    }
   },
   "source": [
    "# Let's see that again \n",
    "    \n",
    "[g5-local-post.yml](g5-local-post.yml)"
   ]
  },
  {
   "cell_type": "code",
   "execution_count": null,
   "metadata": {
    "slideshow": {
     "slide_type": "slide"
    }
   },
   "outputs": [],
   "source": [
    "!psql -c \"SELECT * FROM api.films\" films"
   ]
  },
  {
   "cell_type": "markdown",
   "metadata": {
    "slideshow": {
     "slide_type": "slide"
    }
   },
   "source": [
    "# More tricks\n",
    "\n",
    "RESTful APIs are the easiest, but not the only, way to get at data.\n",
    "\n",
    "> It is not necessary to use Python code in an interview, but it is an extremely powerful tool."
   ]
  },
  {
   "cell_type": "markdown",
   "metadata": {
    "slideshow": {
     "slide_type": "slide"
    }
   },
   "source": [
    "# More data\n",
    "\n",
    "[api.gov](https://www.data.gov/)\n",
    "\n",
    "[Population](https://catalog.data.gov/dataset/population-by-country-1980-2010)\n",
    "\n",
    "[file](populationbycountry19802010millions.csv)"
   ]
  },
  {
   "cell_type": "markdown",
   "metadata": {
    "slideshow": {
     "slide_type": "slide"
    }
   },
   "source": [
    "# Consuming a CSV \n",
    "\n",
    "[csv](https://pymotw.com/3/csv/)"
   ]
  },
  {
   "cell_type": "code",
   "execution_count": null,
   "metadata": {
    "slideshow": {
     "slide_type": "slide"
    }
   },
   "outputs": [],
   "source": [
    "import csv\n",
    "with open('populationbycountry19802010millions.csv') as infile:\n",
    "    reader = csv.DictReader(infile)\n",
    "    content = list(reader)"
   ]
  },
  {
   "cell_type": "code",
   "execution_count": null,
   "metadata": {
    "slideshow": {
     "slide_type": "slide"
    }
   },
   "outputs": [],
   "source": [
    "content[0]"
   ]
  },
  {
   "cell_type": "markdown",
   "metadata": {
    "slideshow": {
     "slide_type": "slide"
    }
   },
   "source": [
    "# Webscraping\n",
    "\n",
    "[Dangnab HTML tables](https://en.wikipedia.org/wiki/List_of_United_States_cities_by_population)\n",
    "\n",
    "[Beautiful Soup](https://www.crummy.com/software/BeautifulSoup/bs4/doc/)\n",
    "\n",
    "[Dependencies in Docassemble](https://docassemble.org/docs/packages.html#tocAnchor-1-4)"
   ]
  },
  {
   "cell_type": "code",
   "execution_count": null,
   "metadata": {
    "slideshow": {
     "slide_type": "slide"
    }
   },
   "outputs": [],
   "source": [
    "import bs4\n",
    "\n",
    "resp = requests.get('https://en.wikipedia.org/wiki/List_of_United_States_cities_by_population')\n",
    "soup = bs4.BeautifulSoup(resp.text)\n",
    "population_table = soup.select('table.wikitable.sortable')[0]"
   ]
  },
  {
   "cell_type": "code",
   "execution_count": null,
   "metadata": {
    "slideshow": {
     "slide_type": "slide"
    }
   },
   "outputs": [],
   "source": [
    "def cleanup(val):\n",
    "    result = val.replace('\\n', ' ').strip()\n",
    "    result = result.encode('ascii', errors='replace').decode('utf8').replace('?', ' ')\n",
    "    try:\n",
    "        return = int(result.replace(',', ''))\n",
    "    except ValueError:\n",
    "        return result\n",
    "\n",
    "def html_table_to_dicts(html_table):\n",
    "    rows = html_table.select('tr')\n",
    "    headers = [cleanup(th.text) for th in rows[0].select('th')]\n",
    "    for row in rows[1:]:\n",
    "        values = [cleanup(td.text) for td in row.select('td')]\n",
    "        yield dict(zip(headers, values))"
   ]
  },
  {
   "cell_type": "code",
   "execution_count": null,
   "metadata": {
    "slideshow": {
     "slide_type": "slide"
    }
   },
   "outputs": [],
   "source": [
    "import pprint\n",
    "pprint.pprint(next(html_table_to_dicts(population_table)))"
   ]
  },
  {
   "cell_type": "markdown",
   "metadata": {
    "slideshow": {
     "slide_type": "slide"
    }
   },
   "source": [
    "# You have the power!\n",
    "\n",
    "[Python Beginners' Guide](https://wiki.python.org/moin/BeginnersGuide)\n",
    "\n",
    "[Automate the Boring Stuff](https://automatetheboringstuff.com/)\n",
    "\n",
    "[ChiPy](http://www.chipy.org/)\n",
    "\n",
    "[PyOhio](http://python.org)\n",
    "  "
   ]
  },
  {
   "cell_type": "markdown",
   "metadata": {
    "slideshow": {
     "slide_type": "slide"
    }
   },
   "source": [
    "# Photo credits\n",
    "\n",
    "Magnetron: CC BY 2.0 https://www.flickr.com/photos/nickhubbard/26136477417\n",
    "\n",
    "Radar: public domain, https://commons.wikimedia.org/wiki/File:Radar-p011990.jpg\n",
    "\n",
    "Microwave oven: CC BY-SA 3.0 https://commons.wikimedia.org/wiki/File:Microwave_oven_(interior).jpg"
   ]
  },
  {
   "cell_type": "markdown",
   "metadata": {
    "slideshow": {
     "slide_type": "slide"
    }
   },
   "source": [
    " \n",
    "\n",
    "# Docassemble Beyond Docs\n",
    "\n",
    "Catherine Devlin\n",
    "\n",
    "Docacon 2018\n",
    "\n",
    "https://github.com/catherinedevlin/talks/docassemble"
   ]
  }
 ],
 "metadata": {
  "celltoolbar": "Slideshow",
  "kernelspec": {
   "display_name": "Python 3",
   "language": "python",
   "name": "python3"
  },
  "language_info": {
   "codemirror_mode": {
    "name": "ipython",
    "version": 3
   },
   "file_extension": ".py",
   "mimetype": "text/x-python",
   "name": "python",
   "nbconvert_exporter": "python",
   "pygments_lexer": "ipython3",
   "version": "3.6.5"
  }
 },
 "nbformat": 4,
 "nbformat_minor": 2
}
