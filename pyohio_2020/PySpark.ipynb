{
 "cells": [
  {
   "cell_type": "markdown",
   "metadata": {
    "slideshow": {
     "slide_type": "slide"
    }
   },
   "source": [
    "# Big Data... no big deal\n",
    "\n",
    "# PySpark\n",
    "\n",
    "![PyOhio](images/logos/pyohio-2020-square-transparent-400.png)\n",
    "\n",
    "### gh: catherinedevlin/talks"
   ]
  },
  {
   "cell_type": "markdown",
   "metadata": {
    "slideshow": {
     "slide_type": "slide"
    }
   },
   "source": [
    "![database logos: PostgreSQL, MySQL, SQLite, dbm](images/databases-slide.png)"
   ]
  },
  {
   "cell_type": "markdown",
   "metadata": {
    "slideshow": {
     "slide_type": "slide"
    }
   },
   "source": [
    "![big data](images/big-data-slide.png)"
   ]
  },
  {
   "cell_type": "markdown",
   "metadata": {
    "slideshow": {
     "slide_type": "slide"
    }
   },
   "source": [
    "![kiddie table](images/kids-table.jpg)"
   ]
  },
  {
   "cell_type": "markdown",
   "metadata": {
    "slideshow": {
     "slide_type": "slide"
    }
   },
   "source": [
    "![map-reduce](images/map-reduce-slide.png)"
   ]
  },
  {
   "cell_type": "markdown",
   "metadata": {
    "slideshow": {
     "slide_type": "slide"
    }
   },
   "source": [
    "![kiddie table](images/kids-table.jpg)"
   ]
  },
  {
   "cell_type": "markdown",
   "metadata": {
    "slideshow": {
     "slide_type": "slide"
    }
   },
   "source": [
    "![Disney+: Hamilton](images/dss.png)"
   ]
  },
  {
   "cell_type": "markdown",
   "metadata": {
    "slideshow": {
     "slide_type": "slide"
    }
   },
   "source": [
    "![hadoop, redis, cassandra, Spark, PySpark](images/big-data-tech-slide.png)"
   ]
  },
  {
   "cell_type": "markdown",
   "metadata": {
    "slideshow": {
     "slide_type": "slide"
    }
   },
   "source": [
    "# big data == distributed data\n",
    "\n",
    "[WaPo police shootings database](https://github.com/washingtonpost/data-police-shootings)\n"
   ]
  },
  {
   "cell_type": "code",
   "execution_count": 1,
   "metadata": {
    "slideshow": {
     "slide_type": "fragment"
    }
   },
   "outputs": [],
   "source": [
    "from pyspark.sql import SparkSession\n",
    "spark = SparkSession.builder.master('local').getOrCreate()\n",
    "import databricks.koalas as ksa\n",
    "\n",
    "temp_df = spark.read.csv(\n",
    "    \"data-source/fatal-police-shootings-data.csv\", header=True, \n",
    ")\n",
    "!rm -rf my-cloud-service/shootings\n",
    "temp_df.write.partitionBy(\"state\").format(\"parquet\").save(\"my-cloud-service/shootings\")\n",
    "# Also available: JSON, AVRO, ORC, Delta, ..."
   ]
  },
  {
   "cell_type": "code",
   "execution_count": 2,
   "metadata": {
    "slideshow": {
     "slide_type": "slide"
    }
   },
   "outputs": [
    {
     "name": "stdout",
     "output_type": "stream",
     "text": [
      "\u001b[0m\u001b[01;34m'state=AK'\u001b[0m/  \u001b[01;34m'state=FL'\u001b[0m/  \u001b[01;34m'state=LA'\u001b[0m/  \u001b[01;34m'state=NC'\u001b[0m/  \u001b[01;34m'state=OK'\u001b[0m/  \u001b[01;34m'state=VA'\u001b[0m/\r\n",
      "\u001b[01;34m'state=AL'\u001b[0m/  \u001b[01;34m'state=GA'\u001b[0m/  \u001b[01;34m'state=MA'\u001b[0m/  \u001b[01;34m'state=ND'\u001b[0m/  \u001b[01;34m'state=OR'\u001b[0m/  \u001b[01;34m'state=VT'\u001b[0m/\r\n",
      "\u001b[01;34m'state=AR'\u001b[0m/  \u001b[01;34m'state=HI'\u001b[0m/  \u001b[01;34m'state=MD'\u001b[0m/  \u001b[01;34m'state=NE'\u001b[0m/  \u001b[01;34m'state=PA'\u001b[0m/  \u001b[01;34m'state=WA'\u001b[0m/\r\n",
      "\u001b[01;34m'state=AZ'\u001b[0m/  \u001b[01;34m'state=IA'\u001b[0m/  \u001b[01;34m'state=ME'\u001b[0m/  \u001b[01;34m'state=NH'\u001b[0m/  \u001b[01;34m'state=RI'\u001b[0m/  \u001b[01;34m'state=WI'\u001b[0m/\r\n",
      "\u001b[01;34m'state=CA'\u001b[0m/  \u001b[01;34m'state=ID'\u001b[0m/  \u001b[01;34m'state=MI'\u001b[0m/  \u001b[01;34m'state=NJ'\u001b[0m/  \u001b[01;34m'state=SC'\u001b[0m/  \u001b[01;34m'state=WV'\u001b[0m/\r\n",
      "\u001b[01;34m'state=CO'\u001b[0m/  \u001b[01;34m'state=IL'\u001b[0m/  \u001b[01;34m'state=MN'\u001b[0m/  \u001b[01;34m'state=NM'\u001b[0m/  \u001b[01;34m'state=SD'\u001b[0m/  \u001b[01;34m'state=WY'\u001b[0m/\r\n",
      "\u001b[01;34m'state=CT'\u001b[0m/  \u001b[01;34m'state=IN'\u001b[0m/  \u001b[01;34m'state=MO'\u001b[0m/  \u001b[01;34m'state=NV'\u001b[0m/  \u001b[01;34m'state=TN'\u001b[0m/   _SUCCESS\r\n",
      "\u001b[01;34m'state=DC'\u001b[0m/  \u001b[01;34m'state=KS'\u001b[0m/  \u001b[01;34m'state=MS'\u001b[0m/  \u001b[01;34m'state=NY'\u001b[0m/  \u001b[01;34m'state=TX'\u001b[0m/\r\n",
      "\u001b[01;34m'state=DE'\u001b[0m/  \u001b[01;34m'state=KY'\u001b[0m/  \u001b[01;34m'state=MT'\u001b[0m/  \u001b[01;34m'state=OH'\u001b[0m/  \u001b[01;34m'state=UT'\u001b[0m/\r\n"
     ]
    }
   ],
   "source": [
    "ls my-cloud-service/shootings/"
   ]
  },
  {
   "cell_type": "code",
   "execution_count": 3,
   "metadata": {
    "slideshow": {
     "slide_type": "fragment"
    }
   },
   "outputs": [
    {
     "name": "stdout",
     "output_type": "stream",
     "text": [
      "total 12K\r\n",
      "-rw-r--r-- 1 jovyan users 9.0K Jul 19 21:08 part-00000-93ad549a-49cf-4f8d-b073-b96ac76abdbf.c000.snappy.parquet\r\n"
     ]
    }
   ],
   "source": [
    "ls -lh my-cloud-service/shootings/state=OH"
   ]
  },
  {
   "cell_type": "code",
   "execution_count": 4,
   "metadata": {
    "slideshow": {
     "slide_type": "slide"
    }
   },
   "outputs": [],
   "source": [
    "df = spark.read.parquet(\"my-cloud-service/shootings\")"
   ]
  },
  {
   "cell_type": "code",
   "execution_count": 6,
   "metadata": {
    "slideshow": {
     "slide_type": "slide"
    }
   },
   "outputs": [
    {
     "name": "stdout",
     "output_type": "stream",
     "text": [
      "+---+--------------------+----------+----------------+----------+---+------+----+--------------+-----------------------+------------+-----------+-----------+-----+\n",
      "| id|                name|      date| manner_of_death|     armed|age|gender|race|          city|signs_of_mental_illness|threat_level|       flee|body_camera|state|\n",
      "+---+--------------------+----------+----------------+----------+---+------+----+--------------+-----------------------+------------+-----------+-----------+-----+\n",
      "|  8|     Matthew Hoffman|2015-01-04|            shot|toy weapon| 32|     M|   W| San Francisco|                   True|      attack|Not fleeing|      False|   CA|\n",
      "| 19|      Patrick Wetter|2015-01-06|shot and Tasered|     knife| 25|     M|   W|      Stockton|                  False|      attack|Not fleeing|      False|   CA|\n",
      "| 43|      Brian  Barbosa|2015-01-11|            shot|       gun| 23|     M|   H|    South Gate|                  False|      attack|Not fleeing|      False|   CA|\n",
      "| 63|           Jose Ceja|2015-01-15|            shot|     knife| 36|     M|   H|     Fairfield|                   True|       other|Not fleeing|      False|   CA|\n",
      "| 68|       Zaki Shinwary|2015-01-16|shot and Tasered|     knife| 48|     M|   O|       Fremont|                  False|       other|Not fleeing|      False|   CA|\n",
      "| 75|          Pablo Meza|2015-01-17|            shot|       gun| 24|     M|   H|   Los Angeles|                  False|      attack|Not fleeing|      False|   CA|\n",
      "| 86|    Todd Allen Hodge|2015-01-21|            shot|       gun| 36|     M|   W|         Hemet|                  False|      attack|Not fleeing|      False|   CA|\n",
      "|353|        David Garcia|2015-01-26|            shot|     knife| 34|     M|   H|         Wasco|                   True|       other|Not fleeing|      False|   CA|\n",
      "|346|         Matautu Nuu|2015-01-28|shot and Tasered|    hammer| 35|     M|   A|      Stockton|                   True|      attack|Not fleeing|      False|   CA|\n",
      "|115|Francis Murphy Ro...|2015-02-02|            shot|       gun| 42|     M|   W|  Apple Valley|                   True|      attack|Not fleeing|      False|   CA|\n",
      "|118|   Yuvette Henderson|2015-02-03|            shot|       gun| 38|     F|   B|    Emeryville|                  False|      attack|        Car|      False|   CA|\n",
      "|119|Dewayne Deshawn Ward|2015-02-03|            shot|     knife| 29|     M|   B|       Antioch|                   True|       other|Not fleeing|      False|   CA|\n",
      "|128|Paul Alfred Eugen...|2015-02-05|            shot|       gun| 59|     M|   W|         Chino|                  False|       other|        Car|      False|   CA|\n",
      "|532|        John  Sawyer|2015-02-07|            shot|toy weapon| 26|     M|   W|      Calimesa|                  False|      attack|Not fleeing|      False|   CA|\n",
      "|141|     Phillip Watkins|2015-02-11|            shot|     knife| 23|     M|   B|      San Jose|                   True|       other|Not fleeing|      False|   CA|\n",
      "|145|Jonathan Larry Ha...|2015-02-13|            shot|      null| 23|     M|   W|San Bernardino|                  False|      attack|        Car|      False|   CA|\n",
      "|182| Amilcar Perez-Lopez|2015-02-26|            shot|     knife| 21|     M|   H| San Francisco|                  False|       other|Not fleeing|      False|   CA|\n",
      "|185|Ernesto Javiar Ca...|2015-02-27|            shot|   unarmed| 27|     M|   H|     Santa Ana|                  False|undetermined|Not fleeing|      False|   CA|\n",
      "|194|Charly Leundeu Ke...|2015-03-01|shot and Tasered|   unarmed| 43|     M|   B|   Los Angeles|                   True|      attack|Not fleeing|       True|   CA|\n",
      "|249|            Carl Lao|2015-03-04|            shot|       gun| 28|     M|   A|      Stockton|                  False|      attack|Not fleeing|      False|   CA|\n",
      "+---+--------------------+----------+----------------+----------+---+------+----+--------------+-----------------------+------------+-----------+-----------+-----+\n",
      "only showing top 20 rows\n",
      "\n"
     ]
    }
   ],
   "source": [
    "df.show()"
   ]
  },
  {
   "cell_type": "code",
   "execution_count": 15,
   "metadata": {
    "slideshow": {
     "slide_type": "slide"
    }
   },
   "outputs": [
    {
     "name": "stdout",
     "output_type": "stream",
     "text": [
      "+--------------------+----------+---+-----------+\n",
      "|                name|      date|age|       city|\n",
      "+--------------------+----------+---+-----------+\n",
      "|Hashim Hanif Ibn ...|2015-01-07| 41|   Columbus|\n",
      "|   Jermonte Fletcher|2015-01-27| 33|   Columbus|\n",
      "|    Theodore Johnson|2015-03-10| 64|  Cleveland|\n",
      "|       Brandon Jones|2015-03-19| 18|  Cleveland|\n",
      "|         Jason Smith|2015-03-21| 42|   Columbus|\n",
      "|       Robert Rooker|2015-03-29| 26|     Jasper|\n",
      "|        David Parker|2015-04-28| 58|  Mansfield|\n",
      "|    Jonathan  Colley|2015-05-20| 52|      Green|\n",
      "|      Jeremy Linhart|2015-06-09| 30|    Findlay|\n",
      "|    QuanDavier Hicks|2015-06-09| 22| Cincinnati|\n",
      "|   Trepierre Hummons|2015-06-19| 21| Cincinnati|\n",
      "|    Charles Crandall|2015-07-14| 76|Southington|\n",
      "|       Samuel DuBose|2015-07-19| 43| Mt. Auburn|\n",
      "|    Dontae L. Martin|2015-07-23| 34|     Dayton|\n",
      "|   Reginald Marshall|2015-08-12| 27|     Toledo|\n",
      "|        Tyler Gerken|2015-08-20| 19|    Beverly|\n",
      "| Charles Robert Shaw|2015-09-01| 76|  Twinsburg|\n",
      "|      William Lemmon|2015-09-25| 21|      Akron|\n",
      "|            Omar Ali|2015-10-05| 27|      Akron|\n",
      "|     Kaleb Alexander|2015-10-15| 25|   Columbus|\n",
      "+--------------------+----------+---+-----------+\n",
      "only showing top 20 rows\n",
      "\n"
     ]
    }
   ],
   "source": [
    "df.select('name', 'date', 'age', 'city').filter(df.state=='OH').show()"
   ]
  },
  {
   "cell_type": "code",
   "execution_count": 8,
   "metadata": {
    "scrolled": true,
    "slideshow": {
     "slide_type": "slide"
    }
   },
   "outputs": [
    {
     "name": "stdout",
     "output_type": "stream",
     "text": [
      "+-------+------------------+\n",
      "|summary|               age|\n",
      "+-------+------------------+\n",
      "|  count|              5231|\n",
      "|   mean| 37.13152360925253|\n",
      "| stddev|13.127085188139786|\n",
      "|    min|                12|\n",
      "|    max|                91|\n",
      "+-------+------------------+\n",
      "\n"
     ]
    }
   ],
   "source": [
    "df.describe('age').show()"
   ]
  },
  {
   "cell_type": "code",
   "execution_count": 9,
   "metadata": {
    "slideshow": {
     "slide_type": "slide"
    }
   },
   "outputs": [
    {
     "name": "stdout",
     "output_type": "stream",
     "text": [
      "+------------------+---+\n",
      "|              city|  n|\n",
      "+------------------+---+\n",
      "|          Columbus| 31|\n",
      "|         Cleveland|  7|\n",
      "|             Akron|  7|\n",
      "|        Cincinnati|  7|\n",
      "|            Toledo|  5|\n",
      "|            Dayton|  5|\n",
      "|         Kettering|  3|\n",
      "|         Mansfield|  3|\n",
      "|             Parma|  3|\n",
      "| Sylvania Township|  2|\n",
      "|       Springfield|  2|\n",
      "|          Hamilton|  2|\n",
      "|              Kent|  2|\n",
      "|  Madison Township|  2|\n",
      "|         Fairfield|  2|\n",
      "|Ashtabula Township|  1|\n",
      "|              Lima|  1|\n",
      "|          Oak Hill|  1|\n",
      "|            Girard|  1|\n",
      "|        Willoughby|  1|\n",
      "+------------------+---+\n",
      "only showing top 20 rows\n",
      "\n"
     ]
    }
   ],
   "source": [
    "by_city = df.filter(df.state=='OH').groupby('city').count().withColumnRenamed('count', 'n')\n",
    "by_city.orderBy(by_city.n.desc()).show()"
   ]
  },
  {
   "cell_type": "code",
   "execution_count": 10,
   "metadata": {
    "slideshow": {
     "slide_type": "slide"
    }
   },
   "outputs": [
    {
     "name": "stdout",
     "output_type": "stream",
     "text": [
      "+--------------------+---+-----------------------+\n",
      "|                name|age|signs_of_mental_illness|\n",
      "+--------------------+---+-----------------------+\n",
      "|Joshua Franklin R...| 41|                  False|\n",
      "|  Joshua James Brown| 34|                  False|\n",
      "|        Chad Nicolia| 41|                  False|\n",
      "|    Abdirahman Salad| 15|                  False|\n",
      "|       Joseph Jewell| 17|                  False|\n",
      "|       William Resto| 54|                  False|\n",
      "|      Tyler M. Jones| 24|                  False|\n",
      "|          Gary Brown| 43|                  False|\n",
      "|      Robert Tincher| 49|                   True|\n",
      "|            John Vik| 47|                  False|\n",
      "|         James Tober| 68|                   True|\n",
      "|Terena Nicole Thu...| 36|                  False|\n",
      "+--------------------+---+-----------------------+\n",
      "\n"
     ]
    }
   ],
   "source": [
    "df.createOrReplaceTempView(\"shootings\")\n",
    "\n",
    "QRY = \"\"\"\n",
    "SELECT name, age, signs_of_mental_illness \n",
    "FROM   shootings \n",
    "WHERE  state='OH' \n",
    "AND    date >= '2020-01-01'  \"\"\"\n",
    "oh2020 = spark.sql(QRY)\n",
    "oh2020.show()"
   ]
  },
  {
   "cell_type": "code",
   "execution_count": 11,
   "metadata": {
    "slideshow": {
     "slide_type": "slide"
    }
   },
   "outputs": [],
   "source": [
    "kdf = df.to_koalas()"
   ]
  },
  {
   "cell_type": "code",
   "execution_count": 12,
   "metadata": {
    "slideshow": {
     "slide_type": "slide"
    }
   },
   "outputs": [
    {
     "data": {
      "text/plain": [
       "CA    807\n",
       "TX    486\n",
       "FL    355\n",
       "AZ    256\n",
       "CO    201\n",
       "GA    185\n",
       "OK    165\n",
       "OH    157\n",
       "NC    154\n",
       "WA    152\n",
       "TN    143\n",
       "MO    143\n",
       "PA    111\n",
       "LA    110\n",
       "NM    105\n",
       "IL    104\n",
       "AL    104\n",
       "NY    102\n",
       "NV     98\n",
       "IN     97\n",
       "KY     97\n",
       "VA     95\n",
       "WI     93\n",
       "SC     89\n",
       "OR     87\n",
       "AR     83\n",
       "MI     80\n",
       "MD     79\n",
       "NJ     68\n",
       "MS     65\n",
       "MN     61\n",
       "UT     61\n",
       "WV     54\n",
       "KS     50\n",
       "ID     42\n",
       "AK     39\n",
       "MA     35\n",
       "MT     33\n",
       "IA     31\n",
       "HI     30\n",
       "NE     24\n",
       "ME     22\n",
       "CT     21\n",
       "SD     17\n",
       "WY     14\n",
       "DC     13\n",
       "DE     13\n",
       "NH     13\n",
       "ND     11\n",
       "VT      9\n",
       "RI      4\n",
       "Name: state, dtype: int64"
      ]
     },
     "execution_count": 12,
     "metadata": {},
     "output_type": "execute_result"
    }
   ],
   "source": [
    "kdf.state.value_counts()"
   ]
  },
  {
   "cell_type": "markdown",
   "metadata": {
    "slideshow": {
     "slide_type": "slide"
    }
   },
   "source": [
    "### gh: catherinedevlin/talks\n",
    "\n",
    "\"The Kids' Table\" by Clover_1 is licensed under CC BY-NC 2.0. To view a copy of this license, visit https://creativecommons.org/licenses/by-nc/2.0/"
   ]
  }
 ],
 "metadata": {
  "celltoolbar": "Slideshow",
  "kernelspec": {
   "display_name": "Python 3",
   "language": "python",
   "name": "python3"
  },
  "language_info": {
   "codemirror_mode": {
    "name": "ipython",
    "version": 3
   },
   "file_extension": ".py",
   "mimetype": "text/x-python",
   "name": "python",
   "nbconvert_exporter": "python",
   "pygments_lexer": "ipython3",
   "version": "3.8.3"
  }
 },
 "nbformat": 4,
 "nbformat_minor": 4
}
