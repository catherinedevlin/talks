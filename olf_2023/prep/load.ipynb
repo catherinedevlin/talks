{
 "cells": [
  {
   "cell_type": "code",
   "execution_count": 2,
   "id": "fac54a09-f7f8-4be1-bd41-9553c1b4c943",
   "metadata": {},
   "outputs": [],
   "source": [
    "import pandas as pd"
   ]
  },
  {
   "cell_type": "code",
   "execution_count": 10,
   "id": "322a5012-878e-4f24-a6a4-50bfc3abeeab",
   "metadata": {},
   "outputs": [],
   "source": [
    "df = pd.read_clipboard()"
   ]
  },
  {
   "cell_type": "code",
   "execution_count": 11,
   "id": "d838fbba-2d25-427f-8657-0828fb238e3e",
   "metadata": {},
   "outputs": [
    {
     "name": "stdout",
     "output_type": "stream",
     "text": [
      "|                       | Document       | Graph         |\n",
      "|:----------------------|:---------------|:--------------|\n",
      "| native                | JSON functions | recursive CTE |\n",
      "| hosted                | FerretDB       | simple-graph  |\n",
      "| foreign data wrappers | nan            | nan           |\n"
     ]
    }
   ],
   "source": [
    "print(df.to_markdown())"
   ]
  },
  {
   "cell_type": "code",
   "execution_count": 2,
   "id": "b781e055-1255-4fd2-a673-c60489d50e02",
   "metadata": {},
   "outputs": [],
   "source": [
    "!createdb supers"
   ]
  },
  {
   "cell_type": "code",
   "execution_count": 23,
   "id": "f608eca0-2018-4032-bc04-74e95ffcc472",
   "metadata": {},
   "outputs": [],
   "source": [
    "import yaml\n",
    "from pathlib import Path\n",
    "import json"
   ]
  },
  {
   "cell_type": "code",
   "execution_count": 21,
   "id": "3ce0a0b1-12c8-4681-8df7-e6810714d969",
   "metadata": {},
   "outputs": [],
   "source": [
    "raw = yaml.safe_load(Path('battles.yml').read_text())"
   ]
  },
  {
   "cell_type": "code",
   "execution_count": 24,
   "id": "1f49d4e2-3007-41ad-b45d-cf4087321ac8",
   "metadata": {},
   "outputs": [
    {
     "name": "stdout",
     "output_type": "stream",
     "text": [
      "{\n",
      "  \"issue\": 1,\n",
      "  \"venue\": \"Air Force museum\",\n",
      "  \"sides\": {\n",
      "    \"villains\": {\n",
      "      \"objective\": \"Steal B-52\",\n",
      "      \"success\": false,\n",
      "      \"participants\": {\n",
      "        \"Orville Wrong\": {\n",
      "          \"consequences\": {\n",
      "            \"captured\": false,\n",
      "            \"injuries\": [\n",
      "              \"black eye\"\n",
      "            ]\n",
      "          }\n",
      "        },\n",
      "        \"Wilbur Wrong\": {\n",
      "          \"consequences\": {\n",
      "            \"captured\": false\n",
      "          }\n",
      "        }\n",
      "      }\n",
      "    },\n",
      "    \"heroes\": {\n",
      "      \"participants\": {\n",
      "        \"Captain Columbus\": {\n",
      "          \"consequences\": []\n",
      "        },\n",
      "        \"Cardinal Virtue\": {\n",
      "          \"consequences\": [\n",
      "            \"sprained wing\",\n",
      "            \"ruffled feathers\"\n",
      "          ]\n",
      "        }\n",
      "      }\n",
      "    },\n",
      "    \"property loss\": [\n",
      "      \"B-52 damaged\",\n",
      "      \"SPAD VII stolen\"\n",
      "    ]\n",
      "  }\n",
      "}\n",
      "{\n",
      "  \"issue\": 2,\n",
      "  \"venue\": \"Purple People Bridge\",\n",
      "  \"sides\": {\n",
      "    \"heroes\": {\n",
      "      \"objective\": \"learn villains' plans\",\n",
      "      \"success\": true,\n",
      "      \"participants\": {\n",
      "        \"Ohio Gosaimasu\": {\n",
      "          \"consequences\": {\n",
      "            \"captured\": true\n",
      "          }\n",
      "        }\n",
      "      }\n",
      "    },\n",
      "    \"villains\": {\n",
      "      \"objective\": \"capture hero\",\n",
      "      \"success\": true,\n",
      "      \"participants\": {\n",
      "        \"Nell Strongarm\": {\n",
      "          \"consequences\": []\n",
      "        },\n",
      "        \"Henry Fnord\": {\n",
      "          \"consequences\": null\n",
      "        }\n",
      "      }\n",
      "    },\n",
      "    \"property loss\": [\n",
      "      \"Segway thrown into river\"\n",
      "    ]\n",
      "  }\n",
      "}\n"
     ]
    }
   ],
   "source": [
    "qry = f\"\"\"\n",
    "INSERT INTO battles (battle) VALUES (\n",
    "\"\"\"\n",
    "print(qry)"
   ]
  },
  {
   "cell_type": "code",
   "execution_count": 17,
   "id": "3e2b6cfd-399a-43d9-a228-e283b52585f7",
   "metadata": {},
   "outputs": [
    {
     "ename": "TypeError",
     "evalue": "Loader.__init__() missing 1 required positional argument: 'stream'",
     "output_type": "error",
     "traceback": [
      "\u001b[0;31m---------------------------------------------------------------------------\u001b[0m",
      "\u001b[0;31mTypeError\u001b[0m                                 Traceback (most recent call last)",
      "Cell \u001b[0;32mIn[17], line 1\u001b[0m\n\u001b[0;32m----> 1\u001b[0m \u001b[43myaml\u001b[49m\u001b[38;5;241;43m.\u001b[39;49m\u001b[43mLoader\u001b[49m\u001b[43m(\u001b[49m\u001b[43m)\u001b[49m\n",
      "\u001b[0;31mTypeError\u001b[0m: Loader.__init__() missing 1 required positional argument: 'stream'"
     ]
    }
   ],
   "source": [
    "yaml.Loader()"
   ]
  },
  {
   "cell_type": "code",
   "execution_count": null,
   "id": "147b9ab7-3e5a-444b-9de1-a8ddf25447be",
   "metadata": {},
   "outputs": [],
   "source": []
  }
 ],
 "metadata": {
  "kernelspec": {
   "display_name": "Python 3 (ipykernel)",
   "language": "python",
   "name": "python3"
  },
  "language_info": {
   "codemirror_mode": {
    "name": "ipython",
    "version": 3
   },
   "file_extension": ".py",
   "mimetype": "text/x-python",
   "name": "python",
   "nbconvert_exporter": "python",
   "pygments_lexer": "ipython3",
   "version": "3.10.12"
  }
 },
 "nbformat": 4,
 "nbformat_minor": 5
}
